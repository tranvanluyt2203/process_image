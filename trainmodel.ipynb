{
 "cells": [
  {
   "cell_type": "code",
   "execution_count": 1,
   "metadata": {},
   "outputs": [],
   "source": [
    "import numpy as np\n",
    "import csv\n",
    "import matplotlib.pyplot as plt\n",
    "from tensorflow.keras import layers, models # type: ignore\n",
    "import tqdm\n",
    "import tensorflow as tf\n",
    "from sklearn.model_selection import train_test_split\n",
    "from keras.models import load_model\n",
    "from sklearn.metrics import accuracy_score\n",
    "import cv2\n",
    "import tensorflow.keras.backend as K # type: ignore"
   ]
  },
  {
   "cell_type": "code",
   "execution_count": 2,
   "metadata": {},
   "outputs": [
    {
     "name": "stderr",
     "output_type": "stream",
     "text": [
      "Reading CSV: 100%|██████████| 372451/372451 [01:55<00:00, 3226.64it/s] \n"
     ]
    }
   ],
   "source": [
    "with open('./Data/A_Z Handwritten Data.csv', 'r') as csv_file:\n",
    "    result = csv.reader(csv_file)\n",
    "    rows = []\n",
    "    num_lines = 372451\n",
    "    \n",
    "    for row in tqdm.tqdm(result, total=num_lines, desc='Reading CSV'):\n",
    "        rows.append(row)"
   ]
  },
  {
   "cell_type": "code",
   "execution_count": 3,
   "metadata": {},
   "outputs": [
    {
     "name": "stdout",
     "output_type": "stream",
     "text": [
      "['0', '0', '0', '0', '0', '0', '0', '0', '0', '0', '0', '0', '0', '0', '0', '0', '0', '0', '0', '0', '0', '0', '0', '0', '0', '0', '0', '0', '0', '0', '0', '0', '0', '0', '0', '0', '0', '0', '0', '0', '0', '0', '0', '0', '0', '0', '0', '0', '0', '0', '0', '0', '0', '0', '0', '0', '0', '0', '0', '0', '0', '0', '0', '0', '0', '0', '0', '0', '0', '0', '0', '0', '0', '0', '0', '0', '0', '0', '0', '0', '0', '0', '0', '0', '0', '0', '0', '0', '0', '0', '0', '0', '0', '0', '0', '0', '0', '0', '0', '0', '0', '0', '0', '0', '0', '0', '0', '0', '0', '0', '0', '0', '0', '0', '0', '0', '0', '0', '0', '0', '0', '0', '0', '0', '0', '0', '0', '32', '215', '235', '43', '0', '0', '0', '0', '0', '0', '0', '0', '0', '0', '0', '0', '0', '0', '0', '0', '0', '0', '0', '0', '0', '0', '0', '0', '130', '255', '255', '107', '0', '0', '0', '0', '0', '0', '0', '0', '0', '0', '0', '0', '0', '0', '0', '0', '0', '0', '0', '0', '0', '0', '0', '14', '227', '255', '255', '107', '0', '0', '0', '0', '0', '0', '0', '0', '0', '0', '0', '0', '0', '0', '0', '0', '0', '0', '0', '0', '0', '0', '0', '152', '255', '255', '255', '162', '0', '0', '0', '0', '0', '0', '0', '0', '0', '0', '0', '0', '0', '0', '0', '0', '0', '0', '0', '0', '0', '0', '91', '255', '255', '255', '255', '190', '0', '0', '0', '0', '0', '0', '0', '0', '0', '0', '0', '0', '0', '0', '0', '0', '0', '0', '0', '0', '0', '47', '237', '255', '212', '188', '255', '190', '0', '0', '0', '0', '0', '0', '0', '0', '0', '0', '0', '0', '0', '0', '0', '0', '0', '0', '0', '0', '0', '113', '255', '255', '97', '136', '255', '190', '0', '0', '0', '0', '0', '0', '0', '0', '0', '0', '0', '0', '0', '0', '0', '0', '0', '0', '0', '0', '43', '235', '255', '158', '0', '136', '255', '107', '0', '0', '0', '0', '0', '0', '0', '0', '0', '0', '0', '0', '0', '0', '0', '0', '0', '0', '0', '0', '107', '255', '255', '75', '0', '136', '255', '107', '0', '0', '0', '0', '0', '0', '0', '0', '0', '0', '0', '0', '0', '0', '0', '0', '0', '0', '0', '67', '233', '255', '255', '255', '212', '215', '255', '206', '170', '170', '142', '0', '0', '0', '0', '0', '0', '0', '0', '0', '0', '0', '0', '0', '0', '0', '0', '156', '255', '255', '255', '255', '255', '255', '255', '255', '255', '255', '255', '0', '0', '0', '0', '0', '0', '0', '0', '0', '0', '0', '0', '0', '0', '0', '40', '255', '255', '255', '243', '128', '156', '188', '255', '255', '176', '117', '57', '0', '0', '0', '0', '0', '0', '0', '0', '0', '0', '0', '0', '0', '0', '0', '67', '255', '255', '142', '0', '0', '0', '53', '255', '190', '0', '0', '0', '0', '0', '0', '0', '0', '0', '0', '0', '0', '0', '0', '0', '0', '0', '4', '229', '255', '239', '20', '0', '0', '0', '53', '255', '190', '0', '0', '0', '0', '0', '0', '0', '0', '0', '0', '0', '0', '0', '0', '0', '0', '0', '89', '255', '255', '176', '0', '0', '0', '0', '53', '255', '233', '12', '0', '0', '0', '0', '0', '0', '0', '0', '0', '0', '0', '0', '0', '0', '0', '0', '227', '255', '249', '71', '0', '0', '0', '0', '0', '225', '255', '18', '0', '0', '0', '0', '0', '0', '0', '0', '0', '0', '0', '0', '0', '0', '0', '0', '144', '223', '130', '0', '0', '0', '0', '0', '0', '170', '255', '101', '0', '0', '0', '0', '0', '0', '0', '0', '0', '0', '0', '0', '0', '0', '0', '0', '0', '0', '0', '0', '0', '0', '0', '0', '0', '142', '255', '184', '0', '0', '0', '0', '0', '0', '0', '0', '0', '0', '0', '0', '0', '0', '0', '0', '0', '0', '0', '0', '0', '0', '0', '0', '0', '59', '255', '255', '12', '0', '0', '0', '0', '0', '0', '0', '0', '0', '0', '0', '0', '0', '0', '0', '0', '0', '0', '0', '0', '0', '0', '0', '0', '59', '255', '152', '4', '0', '0', '0', '0', '0', '0', '0', '0', '0', '0', '0', '0', '0', '0', '0', '0', '0', '0', '0', '0', '0', '0', '0', '0', '0', '0', '0', '0', '0', '0', '0', '0', '0', '0', '0', '0', '0', '0', '0', '0', '0', '0', '0', '0', '0', '0', '0', '0', '0', '0', '0', '0', '0', '0', '0', '0', '0', '0', '0', '0', '0', '0', '0', '0', '0', '0', '0', '0', '0', '0', '0', '0', '0', '0', '0', '0', '0', '0', '0', '0', '0', '0', '0', '0', '0', '0', '0', '0', '0', '0', '0', '0', '0', '0', '0', '0', '0', '0', '0', '0', '0', '0', '0', '0', '0', '0', '0', '0', '0', '0', '0', '0', '0', '0', '0', '0', '0', '0', '0', '0']\n"
     ]
    },
    {
     "data": {
      "text/plain": [
       "<matplotlib.image.AxesImage at 0x14e49e481f0>"
      ]
     },
     "execution_count": 3,
     "metadata": {},
     "output_type": "execute_result"
    },
    {
     "data": {
      "image/png": "[encoded data removed]",
      "text/plain": [
       "<Figure size 640x480 with 1 Axes>"
      ]
     },
     "metadata": {},
     "output_type": "display_data"
    }
   ],
   "source": [
    "letter = rows[0]\n",
    "x = np.array([int(j) for j in letter[1:]])\n",
    "x = x.reshape(28, 28)\n",
    "print(letter)\n",
    "plt.imshow(x,cmap='gray')\n"
   ]
  },
  {
   "cell_type": "code",
   "execution_count": 4,
   "metadata": {},
   "outputs": [],
   "source": [
    "X = [] \n",
    "y = []\n",
    "text = 0\n",
    "count = 0\n",
    "num_data_each_text = 1000\n",
    "for letter in rows:\n",
    "    if int(letter[0]) == text and count<num_data_each_text:\n",
    "        x = np.array([int(j) for j in letter[1:]])\n",
    "        x = x.reshape(28, 28)\n",
    "        X.append(x)\n",
    "        y.append(int(letter[0]))\n",
    "        count +=1\n",
    "    elif count>=num_data_each_text:\n",
    "        text+=1\n",
    "        count=0\n",
    "    elif text>25:\n",
    "        break"
   ]
  },
  {
   "cell_type": "code",
   "execution_count": 5,
   "metadata": {},
   "outputs": [],
   "source": [
    "X = np.array(X)\n",
    "y= np.array(y)"
   ]
  },
  {
   "cell_type": "code",
   "execution_count": 6,
   "metadata": {},
   "outputs": [
    {
     "name": "stdout",
     "output_type": "stream",
     "text": [
      "(26000, 28, 28)\n"
     ]
    }
   ],
   "source": [
    "print(X.shape)"
   ]
  },
  {
   "cell_type": "code",
   "execution_count": 7,
   "metadata": {},
   "outputs": [
    {
     "name": "stderr",
     "output_type": "stream",
     "text": [
      "c:\\Users\\HELLO\\AppData\\Local\\Programs\\Python\\Python310\\lib\\site-packages\\keras\\src\\layers\\convolutional\\base_conv.py:99: UserWarning: Do not pass an `input_shape`/`input_dim` argument to a layer. When using Sequential models, prefer using an `Input(shape)` object as the first layer in the model instead.\n",
      "  super().__init__(\n"
     ]
    },
    {
     "data": {
      "text/html": [
       "<pre style=\"white-space:pre;overflow-x:auto;line-height:normal;font-family:Menlo,'DejaVu Sans Mono',consolas,'Courier New',monospace\"><span style=\"font-weight: bold\">Model: \"sequential_1\"</span>\n",
       "</pre>\n"
      ],
      "text/plain": [
       "\u001b[1mModel: \"sequential_1\"\u001b[0m\n"
      ]
     },
     "metadata": {},
     "output_type": "display_data"
    },
    {
     "data": {
      "text/html": [
       "<pre style=\"white-space:pre;overflow-x:auto;line-height:normal;font-family:Menlo,'DejaVu Sans Mono',consolas,'Courier New',monospace\">┏━━━━━━━━━━━━━━━━━━━━━━━━━━━━━━━━━┳━━━━━━━━━━━━━━━━━━━━━━━━┳━━━━━━━━━━━━━━━┓\n",
       "┃<span style=\"font-weight: bold\"> Layer (type)                    </span>┃<span style=\"font-weight: bold\"> Output Shape           </span>┃<span style=\"font-weight: bold\">       Param # </span>┃\n",
       "┡━━━━━━━━━━━━━━━━━━━━━━━━━━━━━━━━━╇━━━━━━━━━━━━━━━━━━━━━━━━╇━━━━━━━━━━━━━━━┩\n",
       "│ conv2d (<span style=\"color: #0087ff; text-decoration-color: #0087ff\">Conv2D</span>)                 │ (<span style=\"color: #00d7ff; text-decoration-color: #00d7ff\">None</span>, <span style=\"color: #00af00; text-decoration-color: #00af00\">28</span>, <span style=\"color: #00af00; text-decoration-color: #00af00\">28</span>, <span style=\"color: #00af00; text-decoration-color: #00af00\">32</span>)     │           <span style=\"color: #00af00; text-decoration-color: #00af00\">832</span> │\n",
       "├─────────────────────────────────┼────────────────────────┼───────────────┤\n",
       "│ conv2d_1 (<span style=\"color: #0087ff; text-decoration-color: #0087ff\">Conv2D</span>)               │ (<span style=\"color: #00d7ff; text-decoration-color: #00d7ff\">None</span>, <span style=\"color: #00af00; text-decoration-color: #00af00\">28</span>, <span style=\"color: #00af00; text-decoration-color: #00af00\">28</span>, <span style=\"color: #00af00; text-decoration-color: #00af00\">32</span>)     │        <span style=\"color: #00af00; text-decoration-color: #00af00\">25,632</span> │\n",
       "├─────────────────────────────────┼────────────────────────┼───────────────┤\n",
       "│ max_pooling2d (<span style=\"color: #0087ff; text-decoration-color: #0087ff\">MaxPooling2D</span>)    │ (<span style=\"color: #00d7ff; text-decoration-color: #00d7ff\">None</span>, <span style=\"color: #00af00; text-decoration-color: #00af00\">14</span>, <span style=\"color: #00af00; text-decoration-color: #00af00\">14</span>, <span style=\"color: #00af00; text-decoration-color: #00af00\">32</span>)     │             <span style=\"color: #00af00; text-decoration-color: #00af00\">0</span> │\n",
       "├─────────────────────────────────┼────────────────────────┼───────────────┤\n",
       "│ conv2d_2 (<span style=\"color: #0087ff; text-decoration-color: #0087ff\">Conv2D</span>)               │ (<span style=\"color: #00d7ff; text-decoration-color: #00d7ff\">None</span>, <span style=\"color: #00af00; text-decoration-color: #00af00\">14</span>, <span style=\"color: #00af00; text-decoration-color: #00af00\">14</span>, <span style=\"color: #00af00; text-decoration-color: #00af00\">64</span>)     │        <span style=\"color: #00af00; text-decoration-color: #00af00\">18,496</span> │\n",
       "├─────────────────────────────────┼────────────────────────┼───────────────┤\n",
       "│ conv2d_3 (<span style=\"color: #0087ff; text-decoration-color: #0087ff\">Conv2D</span>)               │ (<span style=\"color: #00d7ff; text-decoration-color: #00d7ff\">None</span>, <span style=\"color: #00af00; text-decoration-color: #00af00\">14</span>, <span style=\"color: #00af00; text-decoration-color: #00af00\">14</span>, <span style=\"color: #00af00; text-decoration-color: #00af00\">64</span>)     │        <span style=\"color: #00af00; text-decoration-color: #00af00\">36,928</span> │\n",
       "├─────────────────────────────────┼────────────────────────┼───────────────┤\n",
       "│ max_pooling2d_1 (<span style=\"color: #0087ff; text-decoration-color: #0087ff\">MaxPooling2D</span>)  │ (<span style=\"color: #00d7ff; text-decoration-color: #00d7ff\">None</span>, <span style=\"color: #00af00; text-decoration-color: #00af00\">7</span>, <span style=\"color: #00af00; text-decoration-color: #00af00\">7</span>, <span style=\"color: #00af00; text-decoration-color: #00af00\">64</span>)       │             <span style=\"color: #00af00; text-decoration-color: #00af00\">0</span> │\n",
       "├─────────────────────────────────┼────────────────────────┼───────────────┤\n",
       "│ dropout (<span style=\"color: #0087ff; text-decoration-color: #0087ff\">Dropout</span>)               │ (<span style=\"color: #00d7ff; text-decoration-color: #00d7ff\">None</span>, <span style=\"color: #00af00; text-decoration-color: #00af00\">7</span>, <span style=\"color: #00af00; text-decoration-color: #00af00\">7</span>, <span style=\"color: #00af00; text-decoration-color: #00af00\">64</span>)       │             <span style=\"color: #00af00; text-decoration-color: #00af00\">0</span> │\n",
       "├─────────────────────────────────┼────────────────────────┼───────────────┤\n",
       "│ flatten (<span style=\"color: #0087ff; text-decoration-color: #0087ff\">Flatten</span>)               │ (<span style=\"color: #00d7ff; text-decoration-color: #00d7ff\">None</span>, <span style=\"color: #00af00; text-decoration-color: #00af00\">3136</span>)           │             <span style=\"color: #00af00; text-decoration-color: #00af00\">0</span> │\n",
       "├─────────────────────────────────┼────────────────────────┼───────────────┤\n",
       "│ dense (<span style=\"color: #0087ff; text-decoration-color: #0087ff\">Dense</span>)                   │ (<span style=\"color: #00d7ff; text-decoration-color: #00d7ff\">None</span>, <span style=\"color: #00af00; text-decoration-color: #00af00\">512</span>)            │     <span style=\"color: #00af00; text-decoration-color: #00af00\">1,606,144</span> │\n",
       "├─────────────────────────────────┼────────────────────────┼───────────────┤\n",
       "│ dense_1 (<span style=\"color: #0087ff; text-decoration-color: #0087ff\">Dense</span>)                 │ (<span style=\"color: #00d7ff; text-decoration-color: #00d7ff\">None</span>, <span style=\"color: #00af00; text-decoration-color: #00af00\">26</span>)             │        <span style=\"color: #00af00; text-decoration-color: #00af00\">13,338</span> │\n",
       "└─────────────────────────────────┴────────────────────────┴───────────────┘\n",
       "</pre>\n"
      ],
      "text/plain": [
       "┏━━━━━━━━━━━━━━━━━━━━━━━━━━━━━━━━━┳━━━━━━━━━━━━━━━━━━━━━━━━┳━━━━━━━━━━━━━━━┓\n",
       "┃\u001b[1m \u001b[0m\u001b[1mLayer (type)                   \u001b[0m\u001b[1m \u001b[0m┃\u001b[1m \u001b[0m\u001b[1mOutput Shape          \u001b[0m\u001b[1m \u001b[0m┃\u001b[1m \u001b[0m\u001b[1m      Param #\u001b[0m\u001b[1m \u001b[0m┃\n",
       "┡━━━━━━━━━━━━━━━━━━━━━━━━━━━━━━━━━╇━━━━━━━━━━━━━━━━━━━━━━━━╇━━━━━━━━━━━━━━━┩\n",
       "│ conv2d (\u001b[38;5;33mConv2D\u001b[0m)                 │ (\u001b[38;5;45mNone\u001b[0m, \u001b[38;5;34m28\u001b[0m, \u001b[38;5;34m28\u001b[0m, \u001b[38;5;34m32\u001b[0m)     │           \u001b[38;5;34m832\u001b[0m │\n",
       "├─────────────────────────────────┼────────────────────────┼───────────────┤\n",
       "│ conv2d_1 (\u001b[38;5;33mConv2D\u001b[0m)               │ (\u001b[38;5;45mNone\u001b[0m, \u001b[38;5;34m28\u001b[0m, \u001b[38;5;34m28\u001b[0m, \u001b[38;5;34m32\u001b[0m)     │        \u001b[38;5;34m25,632\u001b[0m │\n",
       "├─────────────────────────────────┼────────────────────────┼───────────────┤\n",
       "│ max_pooling2d (\u001b[38;5;33mMaxPooling2D\u001b[0m)    │ (\u001b[38;5;45mNone\u001b[0m, \u001b[38;5;34m14\u001b[0m, \u001b[38;5;34m14\u001b[0m, \u001b[38;5;34m32\u001b[0m)     │             \u001b[38;5;34m0\u001b[0m │\n",
       "├─────────────────────────────────┼────────────────────────┼───────────────┤\n",
       "│ conv2d_2 (\u001b[38;5;33mConv2D\u001b[0m)               │ (\u001b[38;5;45mNone\u001b[0m, \u001b[38;5;34m14\u001b[0m, \u001b[38;5;34m14\u001b[0m, \u001b[38;5;34m64\u001b[0m)     │        \u001b[38;5;34m18,496\u001b[0m │\n",
       "├─────────────────────────────────┼────────────────────────┼───────────────┤\n",
       "│ conv2d_3 (\u001b[38;5;33mConv2D\u001b[0m)               │ (\u001b[38;5;45mNone\u001b[0m, \u001b[38;5;34m14\u001b[0m, \u001b[38;5;34m14\u001b[0m, \u001b[38;5;34m64\u001b[0m)     │        \u001b[38;5;34m36,928\u001b[0m │\n",
       "├─────────────────────────────────┼────────────────────────┼───────────────┤\n",
       "│ max_pooling2d_1 (\u001b[38;5;33mMaxPooling2D\u001b[0m)  │ (\u001b[38;5;45mNone\u001b[0m, \u001b[38;5;34m7\u001b[0m, \u001b[38;5;34m7\u001b[0m, \u001b[38;5;34m64\u001b[0m)       │             \u001b[38;5;34m0\u001b[0m │\n",
       "├─────────────────────────────────┼────────────────────────┼───────────────┤\n",
       "│ dropout (\u001b[38;5;33mDropout\u001b[0m)               │ (\u001b[38;5;45mNone\u001b[0m, \u001b[38;5;34m7\u001b[0m, \u001b[38;5;34m7\u001b[0m, \u001b[38;5;34m64\u001b[0m)       │             \u001b[38;5;34m0\u001b[0m │\n",
       "├─────────────────────────────────┼────────────────────────┼───────────────┤\n",
       "│ flatten (\u001b[38;5;33mFlatten\u001b[0m)               │ (\u001b[38;5;45mNone\u001b[0m, \u001b[38;5;34m3136\u001b[0m)           │             \u001b[38;5;34m0\u001b[0m │\n",
       "├─────────────────────────────────┼────────────────────────┼───────────────┤\n",
       "│ dense (\u001b[38;5;33mDense\u001b[0m)                   │ (\u001b[38;5;45mNone\u001b[0m, \u001b[38;5;34m512\u001b[0m)            │     \u001b[38;5;34m1,606,144\u001b[0m │\n",
       "├─────────────────────────────────┼────────────────────────┼───────────────┤\n",
       "│ dense_1 (\u001b[38;5;33mDense\u001b[0m)                 │ (\u001b[38;5;45mNone\u001b[0m, \u001b[38;5;34m26\u001b[0m)             │        \u001b[38;5;34m13,338\u001b[0m │\n",
       "└─────────────────────────────────┴────────────────────────┴───────────────┘\n"
      ]
     },
     "metadata": {},
     "output_type": "display_data"
    },
    {
     "data": {
      "text/html": [
       "<pre style=\"white-space:pre;overflow-x:auto;line-height:normal;font-family:Menlo,'DejaVu Sans Mono',consolas,'Courier New',monospace\"><span style=\"font-weight: bold\"> Total params: </span><span style=\"color: #00af00; text-decoration-color: #00af00\">1,701,370</span> (6.49 MB)\n",
       "</pre>\n"
      ],
      "text/plain": [
       "\u001b[1m Total params: \u001b[0m\u001b[38;5;34m1,701,370\u001b[0m (6.49 MB)\n"
      ]
     },
     "metadata": {},
     "output_type": "display_data"
    },
    {
     "data": {
      "text/html": [
       "<pre style=\"white-space:pre;overflow-x:auto;line-height:normal;font-family:Menlo,'DejaVu Sans Mono',consolas,'Courier New',monospace\"><span style=\"font-weight: bold\"> Trainable params: </span><span style=\"color: #00af00; text-decoration-color: #00af00\">1,701,370</span> (6.49 MB)\n",
       "</pre>\n"
      ],
      "text/plain": [
       "\u001b[1m Trainable params: \u001b[0m\u001b[38;5;34m1,701,370\u001b[0m (6.49 MB)\n"
      ]
     },
     "metadata": {},
     "output_type": "display_data"
    },
    {
     "data": {
      "text/html": [
       "<pre style=\"white-space:pre;overflow-x:auto;line-height:normal;font-family:Menlo,'DejaVu Sans Mono',consolas,'Courier New',monospace\"><span style=\"font-weight: bold\"> Non-trainable params: </span><span style=\"color: #00af00; text-decoration-color: #00af00\">0</span> (0.00 B)\n",
       "</pre>\n"
      ],
      "text/plain": [
       "\u001b[1m Non-trainable params: \u001b[0m\u001b[38;5;34m0\u001b[0m (0.00 B)\n"
      ]
     },
     "metadata": {},
     "output_type": "display_data"
    }
   ],
   "source": [
    "# Xây dựng mô hình CNN\n",
    "def build_cnn_model(input_shape, num_classes):\n",
    "    model = models.Sequential()\n",
    "\n",
    "    # Lớp tích chập 1\n",
    "    model.add(\n",
    "        layers.Conv2D(\n",
    "            32,\n",
    "            (5, 5),\n",
    "            strides=1,\n",
    "            padding=\"same\",\n",
    "            activation='relu',\n",
    "            input_shape=input_shape,\n",
    "        )\n",
    "    )\n",
    "\n",
    "    # Lớp tích chập 2\n",
    "    model.add(\n",
    "        layers.Conv2D(\n",
    "            32, \n",
    "            (5, 5), \n",
    "            strides=1, \n",
    "            padding=\"same\", \n",
    "            activation='relu',\n",
    "        )\n",
    "    )\n",
    "\n",
    "    # Lớp Pooling 3\n",
    "    model.add(\n",
    "        layers.MaxPooling2D(\n",
    "            (2, 2), \n",
    "            strides=2,\n",
    "            )\n",
    "        )\n",
    "\n",
    "    # Lớp tích chập 4\n",
    "    model.add(\n",
    "        layers.Conv2D(\n",
    "            64, \n",
    "            (3, 3), \n",
    "            strides=1, \n",
    "            padding=\"same\", \n",
    "            activation='relu',\n",
    "        )\n",
    "    )\n",
    "\n",
    "    # Lớp tích chập 5\n",
    "    model.add(\n",
    "        layers.Conv2D(\n",
    "            64, \n",
    "            (3, 3), \n",
    "            strides=1, \n",
    "            padding=\"same\",\n",
    "            activation='relu', \n",
    "        )\n",
    "    )\n",
    "\n",
    "    # Lớp Pooling 6\n",
    "    model.add(\n",
    "        layers.MaxPooling2D(\n",
    "            (2, 2), \n",
    "            strides=2\n",
    "        )\n",
    "    )\n",
    "    \n",
    "    # Lớp Dropout\n",
    "    model.add(layers.Dropout(0.1))\n",
    "    \n",
    "    # Lớp Flatten \n",
    "    model.add(layers.Flatten())\n",
    "    \n",
    "    # Lớp kết nối đầy đủ 7\n",
    "    model.add(\n",
    "        layers.Dense(\n",
    "            512, \n",
    "            activation=\"relu\"\n",
    "        )\n",
    "    )\n",
    "    # Lớp kết nối đầy đủ 8\n",
    "    model.add(\n",
    "        layers.Dense(\n",
    "            num_classes, \n",
    "            activation=\"softmax\"\n",
    "        )\n",
    "    )\n",
    "\n",
    "    return model\n",
    "\n",
    "\n",
    "# Kích thước ảnh đầu vào và số lớp phân loại \n",
    "input_shape = (\n",
    "    28,\n",
    "    28,\n",
    "    1,\n",
    ")\n",
    "num_classes = 26  \n",
    "\n",
    "model = models.Sequential()\n",
    "\n",
    "# Xây dựng mô hình\n",
    "model = build_cnn_model(input_shape, num_classes)\n",
    "\n",
    "# Compile mô hình\n",
    "model.compile(\n",
    "    optimizer=\"adam\", \n",
    "    loss=\"categorical_crossentropy\", \n",
    "    metrics=[\"accuracy\"]\n",
    ")\n",
    "\n",
    "# In thông tin về kiến trúc mô hình\n",
    "model.summary()"
   ]
  },
  {
   "cell_type": "code",
   "execution_count": 8,
   "metadata": {},
   "outputs": [],
   "source": [
    "X_train, X_remaining, y_train, y_remaining = train_test_split(\n",
    "    X, y, test_size=0.2, random_state=42\n",
    ")\n",
    "\n",
    "X_val, X_test, y_val, y_test = train_test_split(\n",
    "    X_remaining, y_remaining, test_size=0.5, random_state=42\n",
    ")\n",
    "\n",
    "X_train = X_train.reshape(-1, 28, 28, 1)\n",
    "y_train = tf.keras.utils.to_categorical(y_train, num_classes=num_classes)\n",
    "\n",
    "X_val = X_val.reshape(-1, 28, 28, 1)\n",
    "y_val = tf.keras.utils.to_categorical(y_val, num_classes=num_classes)\n",
    "\n",
    "X_test = X_test.reshape(-1, 28, 28, 1)\n",
    "y_test = tf.keras.utils.to_categorical(y_test, num_classes=num_classes)"
   ]
  },
  {
   "cell_type": "code",
   "execution_count": 9,
   "metadata": {},
   "outputs": [
    {
     "name": "stdout",
     "output_type": "stream",
     "text": [
      "Epoch 1/10\n",
      "\u001b[1m650/650\u001b[0m \u001b[32m━━━━━━━━━━━━━━━━━━━━\u001b[0m\u001b[37m\u001b[0m \u001b[1m187s\u001b[0m 115ms/step - accuracy: 0.6848 - loss: 1.5738 - val_accuracy: 0.9531 - val_loss: 0.1576\n",
      "Epoch 2/10\n",
      "\u001b[1m650/650\u001b[0m \u001b[32m━━━━━━━━━━━━━━━━━━━━\u001b[0m\u001b[37m\u001b[0m \u001b[1m66s\u001b[0m 101ms/step - accuracy: 0.9560 - loss: 0.1530 - val_accuracy: 0.9638 - val_loss: 0.1454\n",
      "Epoch 3/10\n",
      "\u001b[1m650/650\u001b[0m \u001b[32m━━━━━━━━━━━━━━━━━━━━\u001b[0m\u001b[37m\u001b[0m \u001b[1m68s\u001b[0m 104ms/step - accuracy: 0.9680 - loss: 0.1091 - val_accuracy: 0.9615 - val_loss: 0.1332\n",
      "Epoch 4/10\n",
      "\u001b[1m650/650\u001b[0m \u001b[32m━━━━━━━━━━━━━━━━━━━━\u001b[0m\u001b[37m\u001b[0m \u001b[1m72s\u001b[0m 111ms/step - accuracy: 0.9744 - loss: 0.0787 - val_accuracy: 0.9623 - val_loss: 0.1409\n",
      "Epoch 5/10\n",
      "\u001b[1m650/650\u001b[0m \u001b[32m━━━━━━━━━━━━━━━━━━━━\u001b[0m\u001b[37m\u001b[0m \u001b[1m73s\u001b[0m 112ms/step - accuracy: 0.9755 - loss: 0.0724 - val_accuracy: 0.9673 - val_loss: 0.1348\n",
      "Epoch 6/10\n",
      "\u001b[1m650/650\u001b[0m \u001b[32m━━━━━━━━━━━━━━━━━━━━\u001b[0m\u001b[37m\u001b[0m \u001b[1m67s\u001b[0m 103ms/step - accuracy: 0.9809 - loss: 0.0582 - val_accuracy: 0.9588 - val_loss: 0.2112\n",
      "Epoch 7/10\n",
      "\u001b[1m650/650\u001b[0m \u001b[32m━━━━━━━━━━━━━━━━━━━━\u001b[0m\u001b[37m\u001b[0m \u001b[1m77s\u001b[0m 118ms/step - accuracy: 0.9790 - loss: 0.0641 - val_accuracy: 0.9635 - val_loss: 0.1551\n",
      "Epoch 8/10\n",
      "\u001b[1m650/650\u001b[0m \u001b[32m━━━━━━━━━━━━━━━━━━━━\u001b[0m\u001b[37m\u001b[0m \u001b[1m73s\u001b[0m 113ms/step - accuracy: 0.9855 - loss: 0.0487 - val_accuracy: 0.9596 - val_loss: 0.1804\n",
      "Epoch 9/10\n",
      "\u001b[1m650/650\u001b[0m \u001b[32m━━━━━━━━━━━━━━━━━━━━\u001b[0m\u001b[37m\u001b[0m \u001b[1m72s\u001b[0m 111ms/step - accuracy: 0.9835 - loss: 0.0533 - val_accuracy: 0.9704 - val_loss: 0.1150\n",
      "Epoch 10/10\n",
      "\u001b[1m650/650\u001b[0m \u001b[32m━━━━━━━━━━━━━━━━━━━━\u001b[0m\u001b[37m\u001b[0m \u001b[1m70s\u001b[0m 108ms/step - accuracy: 0.9861 - loss: 0.0443 - val_accuracy: 0.9688 - val_loss: 0.1482\n"
     ]
    },
    {
     "data": {
      "text/plain": [
       "<keras.src.callbacks.history.History at 0x14e4d17cc40>"
      ]
     },
     "execution_count": 9,
     "metadata": {},
     "output_type": "execute_result"
    }
   ],
   "source": [
    "model.fit(X_train, y_train, epochs=10,batch_size=32, validation_data=(X_val, y_val), verbose=1)"
   ]
  },
  {
   "cell_type": "code",
   "execution_count": 10,
   "metadata": {},
   "outputs": [
    {
     "data": {
      "image/png": "[encoded data removed]",
      "text/plain": [
       "<Figure size 1000x600 with 4 Axes>"
      ]
     },
     "metadata": {},
     "output_type": "display_data"
    }
   ],
   "source": [
    "train_loss = model.history.history['loss']\n",
    "train_accuracy = model.history.history['accuracy']\n",
    "val_loss = model.history.history['val_loss']\n",
    "val_accuracy = model.history.history['val_accuracy']\n",
    "\n",
    "# Vẽ đồ thị\n",
    "epochs = range(1, len(train_loss) + 1)\n",
    "\n",
    "plt.figure(figsize=(10, 6))\n",
    "\n",
    "# Đồ thị mất mát\n",
    "plt.subplot(2, 2, 1)\n",
    "plt.plot(epochs, train_loss)\n",
    "plt.title('Training loss')\n",
    "plt.xlabel('Epochs')\n",
    "plt.ylabel('Loss')\n",
    "\n",
    "plt.subplot(2, 2, 2)\n",
    "plt.plot(epochs, val_loss)\n",
    "plt.title('Validation loss')\n",
    "plt.xlabel('Epochs')\n",
    "plt.ylabel('Loss')\n",
    "\n",
    "# Đồ thị độ chính xác\n",
    "plt.subplot(2, 2, 3)\n",
    "plt.plot(epochs, train_accuracy)\n",
    "plt.title('Training accuracy')\n",
    "plt.xlabel('Epochs')\n",
    "plt.ylabel('Accuracy')\n",
    "\n",
    "plt.subplot(2, 2, 4)\n",
    "plt.plot(epochs, val_accuracy)\n",
    "plt.title('Validation accuracy')\n",
    "plt.xlabel('Epochs')\n",
    "plt.ylabel('Accuracy')\n",
    "\n",
    "\n",
    "plt.tight_layout()\n",
    "plt.show()"
   ]
  },
  {
   "cell_type": "code",
   "execution_count": 11,
   "metadata": {},
   "outputs": [],
   "source": [
    "model.save('./PredictImage/static/models/model_detect_image.keras')\n",
    "model.save('model_detect_image.keras')"
   ]
  },
  {
   "cell_type": "code",
   "execution_count": 12,
   "metadata": {},
   "outputs": [],
   "source": [
    "model_trained = load_model(\"model_detect_image.keras\")"
   ]
  },
  {
   "cell_type": "code",
   "execution_count": 13,
   "metadata": {},
   "outputs": [
    {
     "name": "stdout",
     "output_type": "stream",
     "text": [
      "\u001b[1m82/82\u001b[0m \u001b[32m━━━━━━━━━━━━━━━━━━━━\u001b[0m\u001b[37m\u001b[0m \u001b[1m3s\u001b[0m 34ms/step\n",
      "Accuracy =  0.9684615384615385\n",
      "\u001b[1m82/82\u001b[0m \u001b[32m━━━━━━━━━━━━━━━━━━━━\u001b[0m\u001b[37m\u001b[0m \u001b[1m3s\u001b[0m 36ms/step - accuracy: 0.9636 - loss: 0.1496\n",
      "Test Score:  0.13813826441764832\n",
      "Test Accuracy:  0.9684615135192871\n"
     ]
    }
   ],
   "source": [
    "y_pred = np.argmax(model_trained.predict(X_test), axis=-1)\n",
    "# Tính toán accuracy\n",
    "accuracy = accuracy_score(np.argmax(y_test, axis=1), y_pred)\n",
    "print(\"Accuracy = \", accuracy)\n",
    "\n",
    "test_loss, test_accuracy = model.evaluate(X_test, y_test)\n",
    "print(\"Test Score: \", test_loss)\n",
    "print(\"Test Accuracy: \", test_accuracy)"
   ]
  },
  {
   "cell_type": "code",
   "execution_count": 14,
   "metadata": {},
   "outputs": [],
   "source": [
    "def otsu_thresholding(image):\n",
    "    # Tính histogram của ảnh\n",
    "    hist = np.histogram(image, bins=256, range=(0, 256))[0]\n",
    "\n",
    "    total_pixels = image.size\n",
    "    sum_total = np.sum(image)\n",
    "    sum_b = 0\n",
    "    weight_b = 0\n",
    "    max_variance = 0\n",
    "    optimal_threshold = 0\n",
    "\n",
    "    for threshold in range(256):\n",
    "        weight_f = np.sum(hist[:threshold]) / total_pixels\n",
    "        weight_b = 1 - weight_f\n",
    "\n",
    "        if weight_f == 0 or weight_b == 0:\n",
    "            continue\n",
    "\n",
    "        sum_f = np.sum(np.arange(threshold) * hist[:threshold])\n",
    "        mean_f = sum_f / (weight_f * total_pixels)\n",
    "\n",
    "        mean_b = (sum_total - sum_f) / (weight_b * total_pixels)\n",
    "\n",
    "        variance_between = weight_f * weight_b * ((mean_f - mean_b) ** 2)\n",
    "\n",
    "        if variance_between > max_variance:\n",
    "            max_variance = variance_between\n",
    "            optimal_threshold = threshold\n",
    "\n",
    "    return optimal_threshold"
   ]
  },
  {
   "cell_type": "code",
   "execution_count": 15,
   "metadata": {},
   "outputs": [],
   "source": [
    "\n",
    "def scale_to_0_255(img):\n",
    "    min_val = np.min(img)\n",
    "    max_val = np.max(img)\n",
    "    new_img = (img - min_val) / (max_val - min_val)  # 0-1\n",
    "    new_img *= 255\n",
    "    return new_img\n",
    "\n",
    "\n",
    "def my_canny(img, min_val, max_val, sobel_size=3, is_L2_gradient=False):\n",
    "    # 2. Noise Reduction\n",
    "    smooth_img = cv2.GaussianBlur(img, ksize=(5, 5), sigmaX=1, sigmaY=1)\n",
    "\n",
    "    # 3. Finding Intensity Gradient of the Image\n",
    "    Gx = cv2.Sobel(smooth_img, cv2.CV_64F, 1, 0, ksize=sobel_size)\n",
    "    Gy = cv2.Sobel(smooth_img, cv2.CV_64F, 0, 1, ksize=sobel_size)\n",
    "\n",
    "    if is_L2_gradient:\n",
    "        edge_gradient = np.sqrt(Gx * Gx + Gy * Gy)\n",
    "    else:\n",
    "        edge_gradient = np.abs(Gx) + np.abs(Gy)\n",
    "    angle = np.arctan2(Gy, Gx) * 180 / np.pi\n",
    "\n",
    "    # round angle to 4 directions\n",
    "    angle = np.abs(angle)\n",
    "    angle[angle <= 22.5] = 0\n",
    "    angle[angle >= 157.5] = 0\n",
    "    angle[(angle > 22.5) * (angle < 67.5)] = 45\n",
    "    angle[(angle >= 67.5) * (angle <= 112.5)] = 90\n",
    "    angle[(angle > 112.5) * (angle <= 157.5)] = 135\n",
    "\n",
    "    # 4. Non-maximum Suppression\n",
    "    keep_mask = np.zeros(smooth_img.shape, np.uint8)\n",
    "    for y in range(1, edge_gradient.shape[0] - 1):\n",
    "        for x in range(1, edge_gradient.shape[1] - 1):\n",
    "            area_grad_intensity = edge_gradient[\n",
    "                y - 1 : y + 2, x - 1 : x + 2\n",
    "            ]  # 3x3 area\n",
    "            area_angle = angle[y - 1 : y + 2, x - 1 : x + 2]  # 3x3 area\n",
    "            current_angle = area_angle[1, 1]\n",
    "            current_grad_intensity = area_grad_intensity[1, 1]\n",
    "\n",
    "            if current_angle == 0:\n",
    "                if current_grad_intensity > max(\n",
    "                    area_grad_intensity[1, 0], area_grad_intensity[1, 2]\n",
    "                ):\n",
    "                    keep_mask[y, x] = 255\n",
    "                else:\n",
    "                    edge_gradient[y, x] = 0\n",
    "            elif current_angle == 45:\n",
    "                if current_grad_intensity > max(\n",
    "                    area_grad_intensity[2, 0], area_grad_intensity[0, 2]\n",
    "                ):\n",
    "                    keep_mask[y, x] = 255\n",
    "                else:\n",
    "                    edge_gradient[y, x] = 0\n",
    "            elif current_angle == 90:\n",
    "                if current_grad_intensity > max(\n",
    "                    area_grad_intensity[0, 1], area_grad_intensity[2, 1]\n",
    "                ):\n",
    "                    keep_mask[y, x] = 255\n",
    "                else:\n",
    "                    edge_gradient[y, x] = 0\n",
    "            elif current_angle == 135:\n",
    "                if current_grad_intensity > max(\n",
    "                    area_grad_intensity[0, 0], area_grad_intensity[2, 2]\n",
    "                ):\n",
    "                    keep_mask[y, x] = 255\n",
    "                else:\n",
    "                    edge_gradient[y, x] = 0\n",
    "\n",
    "    # 5. Hysteresis Thresholding\n",
    "    canny_mask = np.zeros(smooth_img.shape, dtype=np.uint8)\n",
    "    canny_mask[(keep_mask > 0) * (edge_gradient > min_val)] = 255\n",
    "\n",
    "    return np.uint8(scale_to_0_255(canny_mask))"
   ]
  },
  {
   "cell_type": "code",
   "execution_count": 16,
   "metadata": {},
   "outputs": [],
   "source": [
    "characters_list = [chr(i) for i in range(ord('A'), ord('Z') + 1)]"
   ]
  },
  {
   "cell_type": "code",
   "execution_count": 17,
   "metadata": {},
   "outputs": [],
   "source": [
    "def detect_characters(img):\n",
    "    image_gray = cv2.resize(img, (28, 28))\n",
    "    print(\"Ảnh nhị phân hóa\")\n",
    "    threshold_value = otsu_thresholding(image_gray)\n",
    "    binary_image = (image_gray > threshold_value).astype(\n",
    "        np.uint8\n",
    "    )  # > threshold = 1 else = 0\n",
    "    binary_image[binary_image == 1] = 255\n",
    "    plt.imshow(binary_image, cmap=\"gray\")\n",
    "    plt.axis(\"off\")\n",
    "    plt.show()\n",
    "\n",
    "    image_text = cv2.resize(binary_image, (28, 28))\n",
    "    result_pred = np.argmax(\n",
    "        model_trained.predict(image_text.reshape(-1, 28, 28, 1)), axis=-1\n",
    "    )\n",
    "    return characters_list[result_pred[0]]"
   ]
  },
  {
   "cell_type": "code",
   "execution_count": 18,
   "metadata": {},
   "outputs": [],
   "source": [
    "from PIL import Image, ImageDraw\n",
    "import os\n",
    "import random"
   ]
  },
  {
   "cell_type": "code",
   "execution_count": 19,
   "metadata": {},
   "outputs": [],
   "source": [
    "indexes = random.sample(range(0, len(rows)), 50)\n",
    "count = 0\n",
    "for i in indexes:\n",
    "    image_data = np.array([int(j) for j in rows[i][1:]]).reshape(28, 28)\n",
    "\n",
    "    # Chuyển mảng numpy thành đối tượng Image của Pillow\n",
    "    image = Image.fromarray(image_data.astype(\"uint8\"))\n",
    "\n",
    "    # Lưu hình ảnh thành file ảnh\n",
    "    image.save(f\"Data/image_test/image_test_{count}.png\")\n",
    "    count += 1"
   ]
  },
  {
   "cell_type": "code",
   "execution_count": 20,
   "metadata": {},
   "outputs": [
    {
     "name": "stdout",
     "output_type": "stream",
     "text": [
      "Đã đọc 50 file ảnh.\n"
     ]
    }
   ],
   "source": [
    "# Đường dẫn tới thư mục chứa ảnh\n",
    "folder_path = './Data/image_test'\n",
    "\n",
    "file_list = os.listdir(folder_path)\n",
    "\n",
    "images = []\n",
    "\n",
    "for image_file in [file for file in os.listdir(folder_path) if file.lower().endswith(('.png'))]:\n",
    "    image_path = os.path.join(folder_path, image_file)\n",
    "    images.append(np.array(Image.open(image_path)))\n",
    "    \n",
    "print(f'Đã đọc {len(images)} file ảnh.')"
   ]
  },
  {
   "cell_type": "code",
   "execution_count": 21,
   "metadata": {},
   "outputs": [
    {
     "name": "stdout",
     "output_type": "stream",
     "text": [
      "IMAGE TEST\n"
     ]
    },
    {
     "data": {
      "image/png": "[encoded data removed]",
      "text/plain": [
       "<Figure size 640x480 with 1 Axes>"
      ]
     },
     "metadata": {},
     "output_type": "display_data"
    },
    {
     "name": "stdout",
     "output_type": "stream",
     "text": [
      "Ảnh nhị phân hóa\n"
     ]
    },
    {
     "data": {
      "image/png": "[encoded data removed]",
      "text/plain": [
       "<Figure size 640x480 with 1 Axes>"
      ]
     },
     "metadata": {},
     "output_type": "display_data"
    },
    {
     "name": "stdout",
     "output_type": "stream",
     "text": [
      "\u001b[1m1/1\u001b[0m \u001b[32m━━━━━━━━━━━━━━━━━━━━\u001b[0m\u001b[37m\u001b[0m \u001b[1m0s\u001b[0m 131ms/step\n",
      "Kết quả nhận dạng:  O\n"
     ]
    }
   ],
   "source": [
    "image = images[0]\n",
    "print(\"IMAGE TEST\")\n",
    "plt.imshow(image, cmap=\"gray\")\n",
    "plt.axis(\"off\")\n",
    "plt.show()\n",
    "\n",
    "print(\"Kết quả nhận dạng: \", detect_characters(image))"
   ]
  },
  {
   "cell_type": "code",
   "execution_count": null,
   "metadata": {},
   "outputs": [],
   "source": [
    "\n",
    "print(\"IMAGE TEST\")\n",
    "image = np.array([int(j) for j in rows[14789][1:]]).reshape(28, 28)\n",
    "\n",
    "plt.imshow(image, cmap=\"gray\")\n",
    "\n",
    "plt.axis(\"off\")\n",
    "\n",
    "plt.show()\n",
    "\n",
    "print(\"Kết quả nhận dạng: \", detect_characters(image))"
   ]
  }
 ],
 "metadata": {
  "kernelspec": {
   "display_name": "Python 3",
   "language": "python",
   "name": "python3"
  },
  "language_info": {
   "codemirror_mode": {
    "name": "ipython",
    "version": 3
   },
   "file_extension": ".py",
   "mimetype": "text/x-python",
   "name": "python",
   "nbconvert_exporter": "python",
   "pygments_lexer": "ipython3",
   "version": "3.10.8"
  }
 },
 "nbformat": 4,
 "nbformat_minor": 2
}
