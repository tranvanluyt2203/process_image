{
 "cells": [
  {
   "cell_type": "code",
   "execution_count": 1,
   "metadata": {},
   "outputs": [],
   "source": [
    "import numpy as np\n",
    "import matplotlib.pyplot as plt\n",
    "from keras.models import load_model\n",
    "import cv2\n",
    "import os\n",
    "from PIL import Image"
   ]
  },
  {
   "cell_type": "code",
   "execution_count": 2,
   "metadata": {},
   "outputs": [],
   "source": [
    "model_trained = load_model(\"model_detect_image.keras\")"
   ]
  },
  {
   "cell_type": "code",
   "execution_count": 3,
   "metadata": {},
   "outputs": [],
   "source": [
    "def otsu_thresholding(image):\n",
    "    # Tính histogram của ảnh\n",
    "    hist = np.histogram(image, bins=256, range=(0, 256))[0]\n",
    "\n",
    "    total_pixels = image.size\n",
    "    sum_total = np.sum(image)\n",
    "    sum_b = 0\n",
    "    weight_b = 0\n",
    "    max_variance = 0\n",
    "    optimal_threshold = 0\n",
    "\n",
    "    for threshold in range(256):\n",
    "        weight_f = np.sum(hist[:threshold]) / total_pixels\n",
    "        weight_b = 1 - weight_f\n",
    "\n",
    "        if weight_f == 0 or weight_b == 0:\n",
    "            continue\n",
    "\n",
    "        sum_f = np.sum(np.arange(threshold) * hist[:threshold])\n",
    "        mean_f = sum_f / (weight_f * total_pixels)\n",
    "\n",
    "        mean_b = (sum_total - sum_f) / (weight_b * total_pixels)\n",
    "\n",
    "        variance_between = weight_f * weight_b * ((mean_f - mean_b) ** 2)\n",
    "\n",
    "        if variance_between > max_variance:\n",
    "            max_variance = variance_between\n",
    "            optimal_threshold = threshold\n",
    "\n",
    "    return optimal_threshold"
   ]
  },
  {
   "cell_type": "code",
   "execution_count": 4,
   "metadata": {},
   "outputs": [],
   "source": [
    "characters_list = [chr(i) for i in range(ord('A'), ord('Z') + 1)]"
   ]
  },
  {
   "cell_type": "code",
   "execution_count": 5,
   "metadata": {},
   "outputs": [],
   "source": [
    "def detect_characters(img):\n",
    "    image_gray = cv2.resize(img, (28, 28))\n",
    "    print(\"Ảnh nhị phân hóa\")\n",
    "    threshold_value = otsu_thresholding(image_gray)\n",
    "    binary_image = (image_gray > threshold_value).astype(\n",
    "        np.uint8\n",
    "    )  # > threshold = 1 else = 0\n",
    "    binary_image[binary_image == 1] = 255\n",
    "    plt.imshow(binary_image, cmap=\"gray\")\n",
    "    plt.axis(\"off\")\n",
    "    plt.show()\n",
    "\n",
    "    image_text = cv2.resize(binary_image, (28, 28))\n",
    "    result_pred = np.argmax(\n",
    "        model_trained.predict(image_text.reshape(-1, 28, 28, 1)), axis=-1\n",
    "    )\n",
    "    return characters_list[result_pred[0]]"
   ]
  },
  {
   "cell_type": "code",
   "execution_count": 6,
   "metadata": {},
   "outputs": [
    {
     "name": "stdout",
     "output_type": "stream",
     "text": [
      "Đã đọc 10 file ảnh.\n"
     ]
    }
   ],
   "source": [
    "# Đường dẫn tới thư mục chứa ảnh\n",
    "folder_path = './Data/image_test'\n",
    "\n",
    "file_list = os.listdir(folder_path)\n",
    "\n",
    "images = []\n",
    "\n",
    "for image_file in [file for file in os.listdir(folder_path) if file.lower().endswith(('.png'))]:\n",
    "    image_path = os.path.join(folder_path, image_file)\n",
    "    images.append(np.array(Image.open(image_path)))\n",
    "    \n",
    "print(f'Đã đọc {len(images)} file ảnh.')"
   ]
  },
  {
   "cell_type": "code",
   "execution_count": 7,
   "metadata": {},
   "outputs": [
    {
     "name": "stdout",
     "output_type": "stream",
     "text": [
      "IMAGE TEST\n"
     ]
    },
    {
     "data": {
      "image/png": "[encoded data removed]",
      "text/plain": [
       "<Figure size 640x480 with 1 Axes>"
      ]
     },
     "metadata": {},
     "output_type": "display_data"
    },
    {
     "name": "stdout",
     "output_type": "stream",
     "text": [
      "Ảnh nhị phân hóa\n"
     ]
    },
    {
     "data": {
      "image/png": "[encoded data removed]",
      "text/plain": [
       "<Figure size 640x480 with 1 Axes>"
      ]
     },
     "metadata": {},
     "output_type": "display_data"
    },
    {
     "name": "stdout",
     "output_type": "stream",
     "text": [
      "\u001b[1m1/1\u001b[0m \u001b[32m━━━━━━━━━━━━━━━━━━━━\u001b[0m\u001b[37m\u001b[0m \u001b[1m0s\u001b[0m 215ms/step\n",
      "Kết quả nhận dạng:  A\n"
     ]
    }
   ],
   "source": [
    "image = images[0]\n",
    "print(\"IMAGE TEST\")\n",
    "plt.imshow(image, cmap=\"gray\")\n",
    "plt.axis(\"off\")\n",
    "plt.show()\n",
    "\n",
    "print(\"Kết quả nhận dạng: \", detect_characters(image))"
   ]
  }
 ],
 "metadata": {
  "kernelspec": {
   "display_name": "Python 3",
   "language": "python",
   "name": "python3"
  },
  "language_info": {
   "codemirror_mode": {
    "name": "ipython",
    "version": 3
   },
   "file_extension": ".py",
   "mimetype": "text/x-python",
   "name": "python",
   "nbconvert_exporter": "python",
   "pygments_lexer": "ipython3",
   "version": "3.10.8"
  }
 },
 "nbformat": 4,
 "nbformat_minor": 2
}
